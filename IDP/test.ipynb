{
 "cells": [
  {
   "cell_type": "code",
   "execution_count": 11,
   "metadata": {},
   "outputs": [],
   "source": [
    "from PIL import Image\n",
    "import pytesseract"
   ]
  },
  {
   "cell_type": "code",
   "execution_count": null,
   "metadata": {},
   "outputs": [],
   "source": []
  },
  {
   "cell_type": "code",
   "execution_count": 12,
   "metadata": {},
   "outputs": [],
   "source": [
    "img = Image.open(\"testImages/testIMG01.png\")"
   ]
  },
  {
   "cell_type": "code",
   "execution_count": 13,
   "metadata": {},
   "outputs": [],
   "source": [
    "## Converting the image to grayscale\n",
    "img = img.convert(\"L\")"
   ]
  },
  {
   "cell_type": "code",
   "execution_count": 14,
   "metadata": {},
   "outputs": [],
   "source": [
    "text  = pytesseract.image_to_string(img)"
   ]
  },
  {
   "cell_type": "code",
   "execution_count": 15,
   "metadata": {},
   "outputs": [
    {
     "name": "stdout",
     "output_type": "stream",
     "text": [
      "PATIENT NAME : JITENDRA KUMAR, PATIENT 1D: 3ITEM140493127\n",
      "\n",
      "ACCESSION NO: 01273004971 AGE: 29,Years SEX: Male\n",
      "\n",
      " \n",
      "\n",
      " \n",
      "\n",
      "DRAWN : 29/10/2022 10:11 RECEIVED : 29/10/2022 10:20 REPORTED: 29/10/2022 12:30\n",
      "REFERRING DOCTOR : DR. UMAPATI HEGDE (CLIENT PATIENT 10\n",
      "Test Report Status Final Results Biological Reference Interval Units\n",
      "\n",
      " \n",
      "\n",
      "   \n",
      "\n",
      "HAEMATOLOGY j\n",
      "\n",
      "   \n",
      "\n",
      "BLOOD COUNTS, EDTA WHOLE BLOOD\n",
      "\n",
      "ne 2.00 ceL. (REC) COUNT 451 45-35 ony\n",
      "wre 8.000 CEL (wec) COUNT 60 4-10 shout\n",
      "mateurcouNT 336 130-410 shout\n",
      "\n",
      "RBC AND PLATELET INDICES\n",
      "\n",
      "HEMATOCRIT (PCV) aa 400-500 %\n",
      "MEAN CORPUSCULAR VOLUME (MCV) on s3.0- 101.0 8\n",
      "MEAN CORPUSCULAR HEMOGLOBIN (HCH) na wg 27.0-32.0 0\n",
      "MEAN CORPUSCULAR HEMOGLOBIN 354 wig 31.5 -345 oa.\n",
      "\n",
      "CONCENTRATION(MCHC)\n",
      "\n",
      "RED CELL DISTRIBUTION WIDTH (ROW) 13.4 11.6 - 14.0 %\n",
      "MENTZER INDEX 20.2\n",
      "MEAN PLATELET VOLUME (MPV) 99 6.8 10.9 cs\n",
      "\n",
      "WBC DIFFERENTIAL COUNT\n",
      "\n",
      "NEUTROPHILS 69 40-80 %\n",
      "LYMPHOCYTES, 23 20-40 %\n",
      "MONOCYTES 06 2-10 %\n",
      "EOSINOPHILS. 02 1-6 %\n",
      "BASOPHILS 00 0-2 %\n",
      "ABSOLUTE NEUTROPHIL COUNT 444 2.0-7.0 thou\n",
      "ABSOLUTE LYMPHOCYTE COUNT 1.38 10-30 thou\n",
      "\n",
      "ABSOLUTE MONOCYTE COUNT 0.36 0.2-1.0 thou\n",
      "\n"
     ]
    }
   ],
   "source": [
    "print(text)"
   ]
  }
 ],
 "metadata": {
  "kernelspec": {
   "display_name": "tf-gpu",
   "language": "python",
   "name": "python3"
  },
  "language_info": {
   "codemirror_mode": {
    "name": "ipython",
    "version": 3
   },
   "file_extension": ".py",
   "mimetype": "text/x-python",
   "name": "python",
   "nbconvert_exporter": "python",
   "pygments_lexer": "ipython3",
   "version": "3.9.16"
  },
  "orig_nbformat": 4
 },
 "nbformat": 4,
 "nbformat_minor": 2
}
