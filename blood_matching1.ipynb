{
  "nbformat": 4,
  "nbformat_minor": 0,
  "metadata": {
    "colab": {
      "provenance": [],
      "include_colab_link": true
    },
    "kernelspec": {
      "name": "python3",
      "display_name": "Python 3"
    },
    "language_info": {
      "name": "python"
    }
  },
  "cells": [
    {
      "cell_type": "markdown",
      "metadata": {
        "id": "view-in-github",
        "colab_type": "text"
      },
      "source": [
        "<a href=\"https://colab.research.google.com/github/SShadab13/IDP/blob/main/blood_matching1.ipynb\" target=\"_parent\"><img src=\"https://colab.research.google.com/assets/colab-badge.svg\" alt=\"Open In Colab\"/></a>"
      ]
    },
    {
      "cell_type": "code",
      "source": [
        "import random\n",
        "import pandas as pd"
      ],
      "metadata": {
        "id": "ZW1CR8GKZpc8"
      },
      "execution_count": null,
      "outputs": []
    },
    {
      "cell_type": "code",
      "source": [
        "from google.colab import drive\n",
        "drive.mount('/content/drive')"
      ],
      "metadata": {
        "colab": {
          "base_uri": "https://localhost:8080/"
        },
        "id": "V5pO7oqiqPH7",
        "outputId": "399f5823-f07c-4e10-acba-a933211c5545"
      },
      "execution_count": null,
      "outputs": [
        {
          "output_type": "stream",
          "name": "stdout",
          "text": [
            "Mounted at /content/drive\n"
          ]
        }
      ]
    },
    {
      "cell_type": "code",
      "execution_count": null,
      "metadata": {
        "id": "vnp6Y-IAYoGC"
      },
      "outputs": [],
      "source": [
        "blood_type_table = {\n",
        "        'A+': ['A+', 'A-', 'O+', 'O-'],\n",
        "        'A-': ['A-', 'O-'],\n",
        "        'B+': ['B+', 'B-', 'O+', 'O-'],\n",
        "        'B-': ['B-', 'O-'],\n",
        "        'AB+': ['A+', 'A-', 'B+', 'B-', 'AB+', 'AB-', 'O+', 'O-'],\n",
        "        'AB-': ['A-', 'B-', 'AB-', 'O-'],\n",
        "        'O+': ['O+', 'O-'],\n",
        "        'O-': ['O-']\n",
        "    }\n",
        "grps = ['A+', 'A-', 'B+', 'B-', 'AB+', 'AB-', 'O+', 'O-']"
      ]
    },
    {
      "cell_type": "code",
      "source": [
        "blood_grp = []\n",
        "family_grp = []\n",
        "state = []"
      ],
      "metadata": {
        "id": "VO2_PeklZKuL"
      },
      "execution_count": null,
      "outputs": []
    },
    {
      "cell_type": "code",
      "source": [
        "for i in range(500):\n",
        "  x = random.randint(0, 7)\n",
        "  blood_grp.append(grps[x])\n",
        "  y = random.randint(0, 6) # maybe 5\n",
        "  f_grp = []\n",
        "  for j in range(y):\n",
        "    z = random.randint(0, len(blood_type_table[grps[x]])-1)\n",
        "    f_grp.append(blood_type_table[grps[x]][z])\n",
        "  family_grp.append(f_grp)\n",
        "  if(len(f_grp)==0):\n",
        "    state.append('cadaver')\n",
        "  elif(grps[x] in f_grp):\n",
        "    state.append('family')\n",
        "  else:\n",
        "    state.append('swap')"
      ],
      "metadata": {
        "id": "PepExFGgZsCw"
      },
      "execution_count": null,
      "outputs": []
    },
    {
      "cell_type": "code",
      "source": [
        "data = {'Blood_grp': blood_grp,\n",
        "        'Family_grp': family_grp,\n",
        "        'state': state}\n",
        "\n",
        "df = pd.DataFrame(data)\n",
        "\n",
        "df"
      ],
      "metadata": {
        "colab": {
          "base_uri": "https://localhost:8080/",
          "height": 423
        },
        "id": "eb0rl1qvZ4kr",
        "outputId": "713c5634-e9db-4532-eb75-2f766d67aa7d"
      },
      "execution_count": null,
      "outputs": [
        {
          "output_type": "execute_result",
          "data": {
            "text/plain": [
              "    Blood_grp                   Family_grp    state\n",
              "0          O-                           []  cadaver\n",
              "1         AB+                [B-, AB+, B-]   family\n",
              "2          B-                           []  cadaver\n",
              "3          A+             [O+, O-, A-, O+]     swap\n",
              "4          A+                 [A-, A+, O-]   family\n",
              "..        ...                          ...      ...\n",
              "495       AB+  [AB-, A-, AB+, B-, AB-, O+]   family\n",
              "496        B-                 [B-, O-, O-]   family\n",
              "497       AB+             [A-, O+, B-, A-]     swap\n",
              "498        O-     [O-, O-, O-, O-, O-, O-]   family\n",
              "499        A+                 [A-, O+, A-]     swap\n",
              "\n",
              "[500 rows x 3 columns]"
            ],
            "text/html": [
              "\n",
              "  <div id=\"df-5f83b528-46e9-4c65-9270-e3be082bc044\">\n",
              "    <div class=\"colab-df-container\">\n",
              "      <div>\n",
              "<style scoped>\n",
              "    .dataframe tbody tr th:only-of-type {\n",
              "        vertical-align: middle;\n",
              "    }\n",
              "\n",
              "    .dataframe tbody tr th {\n",
              "        vertical-align: top;\n",
              "    }\n",
              "\n",
              "    .dataframe thead th {\n",
              "        text-align: right;\n",
              "    }\n",
              "</style>\n",
              "<table border=\"1\" class=\"dataframe\">\n",
              "  <thead>\n",
              "    <tr style=\"text-align: right;\">\n",
              "      <th></th>\n",
              "      <th>Blood_grp</th>\n",
              "      <th>Family_grp</th>\n",
              "      <th>state</th>\n",
              "    </tr>\n",
              "  </thead>\n",
              "  <tbody>\n",
              "    <tr>\n",
              "      <th>0</th>\n",
              "      <td>O-</td>\n",
              "      <td>[]</td>\n",
              "      <td>cadaver</td>\n",
              "    </tr>\n",
              "    <tr>\n",
              "      <th>1</th>\n",
              "      <td>AB+</td>\n",
              "      <td>[B-, AB+, B-]</td>\n",
              "      <td>family</td>\n",
              "    </tr>\n",
              "    <tr>\n",
              "      <th>2</th>\n",
              "      <td>B-</td>\n",
              "      <td>[]</td>\n",
              "      <td>cadaver</td>\n",
              "    </tr>\n",
              "    <tr>\n",
              "      <th>3</th>\n",
              "      <td>A+</td>\n",
              "      <td>[O+, O-, A-, O+]</td>\n",
              "      <td>swap</td>\n",
              "    </tr>\n",
              "    <tr>\n",
              "      <th>4</th>\n",
              "      <td>A+</td>\n",
              "      <td>[A-, A+, O-]</td>\n",
              "      <td>family</td>\n",
              "    </tr>\n",
              "    <tr>\n",
              "      <th>...</th>\n",
              "      <td>...</td>\n",
              "      <td>...</td>\n",
              "      <td>...</td>\n",
              "    </tr>\n",
              "    <tr>\n",
              "      <th>495</th>\n",
              "      <td>AB+</td>\n",
              "      <td>[AB-, A-, AB+, B-, AB-, O+]</td>\n",
              "      <td>family</td>\n",
              "    </tr>\n",
              "    <tr>\n",
              "      <th>496</th>\n",
              "      <td>B-</td>\n",
              "      <td>[B-, O-, O-]</td>\n",
              "      <td>family</td>\n",
              "    </tr>\n",
              "    <tr>\n",
              "      <th>497</th>\n",
              "      <td>AB+</td>\n",
              "      <td>[A-, O+, B-, A-]</td>\n",
              "      <td>swap</td>\n",
              "    </tr>\n",
              "    <tr>\n",
              "      <th>498</th>\n",
              "      <td>O-</td>\n",
              "      <td>[O-, O-, O-, O-, O-, O-]</td>\n",
              "      <td>family</td>\n",
              "    </tr>\n",
              "    <tr>\n",
              "      <th>499</th>\n",
              "      <td>A+</td>\n",
              "      <td>[A-, O+, A-]</td>\n",
              "      <td>swap</td>\n",
              "    </tr>\n",
              "  </tbody>\n",
              "</table>\n",
              "<p>500 rows × 3 columns</p>\n",
              "</div>\n",
              "      <button class=\"colab-df-convert\" onclick=\"convertToInteractive('df-5f83b528-46e9-4c65-9270-e3be082bc044')\"\n",
              "              title=\"Convert this dataframe to an interactive table.\"\n",
              "              style=\"display:none;\">\n",
              "        \n",
              "  <svg xmlns=\"http://www.w3.org/2000/svg\" height=\"24px\"viewBox=\"0 0 24 24\"\n",
              "       width=\"24px\">\n",
              "    <path d=\"M0 0h24v24H0V0z\" fill=\"none\"/>\n",
              "    <path d=\"M18.56 5.44l.94 2.06.94-2.06 2.06-.94-2.06-.94-.94-2.06-.94 2.06-2.06.94zm-11 1L8.5 8.5l.94-2.06 2.06-.94-2.06-.94L8.5 2.5l-.94 2.06-2.06.94zm10 10l.94 2.06.94-2.06 2.06-.94-2.06-.94-.94-2.06-.94 2.06-2.06.94z\"/><path d=\"M17.41 7.96l-1.37-1.37c-.4-.4-.92-.59-1.43-.59-.52 0-1.04.2-1.43.59L10.3 9.45l-7.72 7.72c-.78.78-.78 2.05 0 2.83L4 21.41c.39.39.9.59 1.41.59.51 0 1.02-.2 1.41-.59l7.78-7.78 2.81-2.81c.8-.78.8-2.07 0-2.86zM5.41 20L4 18.59l7.72-7.72 1.47 1.35L5.41 20z\"/>\n",
              "  </svg>\n",
              "      </button>\n",
              "      \n",
              "  <style>\n",
              "    .colab-df-container {\n",
              "      display:flex;\n",
              "      flex-wrap:wrap;\n",
              "      gap: 12px;\n",
              "    }\n",
              "\n",
              "    .colab-df-convert {\n",
              "      background-color: #E8F0FE;\n",
              "      border: none;\n",
              "      border-radius: 50%;\n",
              "      cursor: pointer;\n",
              "      display: none;\n",
              "      fill: #1967D2;\n",
              "      height: 32px;\n",
              "      padding: 0 0 0 0;\n",
              "      width: 32px;\n",
              "    }\n",
              "\n",
              "    .colab-df-convert:hover {\n",
              "      background-color: #E2EBFA;\n",
              "      box-shadow: 0px 1px 2px rgba(60, 64, 67, 0.3), 0px 1px 3px 1px rgba(60, 64, 67, 0.15);\n",
              "      fill: #174EA6;\n",
              "    }\n",
              "\n",
              "    [theme=dark] .colab-df-convert {\n",
              "      background-color: #3B4455;\n",
              "      fill: #D2E3FC;\n",
              "    }\n",
              "\n",
              "    [theme=dark] .colab-df-convert:hover {\n",
              "      background-color: #434B5C;\n",
              "      box-shadow: 0px 1px 3px 1px rgba(0, 0, 0, 0.15);\n",
              "      filter: drop-shadow(0px 1px 2px rgba(0, 0, 0, 0.3));\n",
              "      fill: #FFFFFF;\n",
              "    }\n",
              "  </style>\n",
              "\n",
              "      <script>\n",
              "        const buttonEl =\n",
              "          document.querySelector('#df-5f83b528-46e9-4c65-9270-e3be082bc044 button.colab-df-convert');\n",
              "        buttonEl.style.display =\n",
              "          google.colab.kernel.accessAllowed ? 'block' : 'none';\n",
              "\n",
              "        async function convertToInteractive(key) {\n",
              "          const element = document.querySelector('#df-5f83b528-46e9-4c65-9270-e3be082bc044');\n",
              "          const dataTable =\n",
              "            await google.colab.kernel.invokeFunction('convertToInteractive',\n",
              "                                                     [key], {});\n",
              "          if (!dataTable) return;\n",
              "\n",
              "          const docLinkHtml = 'Like what you see? Visit the ' +\n",
              "            '<a target=\"_blank\" href=https://colab.research.google.com/notebooks/data_table.ipynb>data table notebook</a>'\n",
              "            + ' to learn more about interactive tables.';\n",
              "          element.innerHTML = '';\n",
              "          dataTable['output_type'] = 'display_data';\n",
              "          await google.colab.output.renderOutput(dataTable, element);\n",
              "          const docLink = document.createElement('div');\n",
              "          docLink.innerHTML = docLinkHtml;\n",
              "          element.appendChild(docLink);\n",
              "        }\n",
              "      </script>\n",
              "    </div>\n",
              "  </div>\n",
              "  "
            ]
          },
          "metadata": {},
          "execution_count": 5
        }
      ]
    },
    {
      "cell_type": "code",
      "source": [
        "df = df.sample(frac=1)\n",
        "\n",
        "csv_data = df.to_csv('Blood_matching_dataset.csv', index = False)"
      ],
      "metadata": {
        "id": "I8w2lDm0fiEU"
      },
      "execution_count": null,
      "outputs": []
    },
    {
      "cell_type": "code",
      "source": [
        "import shutil\n",
        "shutil.move('Blood_matching_dataset.csv', '/content/drive/MyDrive/files_to_upload_jivandeep/Blood_matching_dataset.csv')"
      ],
      "metadata": {
        "colab": {
          "base_uri": "https://localhost:8080/",
          "height": 35
        },
        "id": "Yf7t-6iootIr",
        "outputId": "0f1aaf3a-6385-48e1-b720-809b5f20e0c9"
      },
      "execution_count": null,
      "outputs": [
        {
          "output_type": "execute_result",
          "data": {
            "text/plain": [
              "'/content/drive/MyDrive/files_to_upload_jivandeep/Blood_matching_dataset.csv'"
            ],
            "application/vnd.google.colaboratory.intrinsic+json": {
              "type": "string"
            }
          },
          "metadata": {},
          "execution_count": 9
        }
      ]
    }
  ]
}